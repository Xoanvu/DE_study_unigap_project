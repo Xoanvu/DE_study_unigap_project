{
 "cells": [
  {
   "cell_type": "markdown",
   "id": "44f5d2c5",
   "metadata": {},
   "source": [
    "1. Cài đặt thư viện pandas"
   ]
  },
  {
   "cell_type": "code",
   "execution_count": 2,
   "id": "d0a737a4",
   "metadata": {},
   "outputs": [],
   "source": [
    "# pip install pandas"
   ]
  },
  {
   "cell_type": "code",
   "execution_count": 3,
   "id": "6402f684",
   "metadata": {},
   "outputs": [],
   "source": [
    "# pip install beautifulsoup4"
   ]
  },
  {
   "cell_type": "code",
   "execution_count": 4,
   "id": "30b3ef0b",
   "metadata": {},
   "outputs": [],
   "source": [
    "from concurrent.futures import ThreadPoolExecutor, as_completed\n",
    "from pathlib import Path\n",
    "from bs4 import BeautifulSoup\n",
    "import pandas as pd\n",
    "import requests as rq\n",
    "import json\n",
    "import os\n",
    "import math\n",
    "import datetime, time"
   ]
  },
  {
   "cell_type": "code",
   "execution_count": 24,
   "id": "ddab50c1",
   "metadata": {},
   "outputs": [],
   "source": [
    "# Set biến\n",
    "input_file = '/home/xoanvt/DE_study_unigap_project/project02/products.xlsx'\n",
    "output_dir = '/home/xoanvt/DE_study_unigap_project/project02/output'\n",
    "log_error = Path(\"/home/xoanvt/DE_study_unigap_project/project02/log_error.txt\")\n",
    "url = \"https://api.tiki.vn/product-detail/api/v1/products/\"\n",
    "parallel_nbr = 50\n",
    "time_out = 10\n",
    "file_sz = 1000\n",
    "retry = 3"
   ]
  },
  {
   "cell_type": "code",
   "execution_count": 6,
   "id": "9ba302a1",
   "metadata": {},
   "outputs": [],
   "source": [
    "def clean_html_text(html_content): # Dùng để làm sạch đoạn mã html trong desciption \n",
    "    if not html_content:\n",
    "        return \"\"\n",
    "    \n",
    "    soup = BeautifulSoup(html_content, \"html.parser\")\n",
    "    \n",
    "    text = soup.get_text(separator=\"\\n\", strip=True)\n",
    "    \n",
    "    return text\n"
   ]
  },
  {
   "cell_type": "markdown",
   "id": "016444c8",
   "metadata": {},
   "source": [
    "Tạo function truyền vào id của sản phẩm (product_id) có các bước sau:\n",
    "- Tạo link API cho từng sản phẩm.\n",
    "- Lấy thông tin sản phẩm qua API bằng phương thức GET\n",
    "- return kết quả call API"
   ]
  },
  {
   "cell_type": "code",
   "execution_count": null,
   "id": "d54ff6c2",
   "metadata": {},
   "outputs": [],
   "source": [
    "HEADERS = {\n",
    "    \"User-Agent\": \"Mozilla/5.0 (Windows NT 10.0; Win64; x64) AppleWebKit/537.36 \"\n",
    "                  \"(KHTML, like Gecko) Chrome/115.0 Safari/537.36\",\n",
    "    \"Accept\": \"application/json, text/plain, */*\",\n",
    "    \"Accept-Language\": \"vi-VN,vi;q=0.9,en-US;q=0.8,en;q=0.7\",\n",
    "    \"Referer\": \"https://tiki.vn/\",\n",
    "    \"X-Requested-With\": \"XMLHttpRequest\",\n",
    "}\n",
    "\n",
    "def fetch_product_data(session, product_id):\n",
    "    for attempt in range(retry):\n",
    "        try:\n",
    "            api_url = f\"{url}{product_id}\"\n",
    "            resp = session.get(api_url, headers=HEADERS, timeout=time_out)\n",
    "            # resp = rq.get(api_url, headers=HEADERS, timeout=time_out)\n",
    "            if resp.status_code == 403:\n",
    "                raise Exception(\"403 Forbidden\")\n",
    "            resp.raise_for_status()\n",
    "            data = resp.json()\n",
    "\n",
    "            # Lấy các trường yêu cầu\n",
    "            cleaned = {\n",
    "                \"id\": data.get(\"id\"),\n",
    "                \"name\": data.get(\"name\"),\n",
    "                \"url_key\": data.get(\"url_key\"),\n",
    "                \"price\": data.get(\"price\"),\n",
    "                \"description\": clean_html_text(data.get(\"description\")),\n",
    "                # \"images_url\": data.get(\"images_url\", [])\n",
    "            }\n",
    "            return {\"product_id\": product_id, \"status\": \"success\", \"data\": cleaned}\n",
    "        \n",
    "        # Bỏ qua sản phẩm lỗi và lưu ID lỗi vào file log_error\n",
    "        except Exception as e:\n",
    "            if attempt < retry - 1:\n",
    "                    time.sleep(1)\n",
    "                    continue\n",
    "            with open(log_error, \"a\") as f:\n",
    "                f.write(f\"{product_id}\\n\")\n",
    "            return {\"product_id\": product_id, \"error\": str(e)}"
   ]
  },
  {
   "cell_type": "code",
   "execution_count": 8,
   "id": "3aa5cf6c",
   "metadata": {},
   "outputs": [
    {
     "name": "stdout",
     "output_type": "stream",
     "text": [
      "2025-08-15 01:11:43.120083\n"
     ]
    }
   ],
   "source": [
    "start_time = datetime.datetime.now()\n",
    "print(start_time)"
   ]
  },
  {
   "cell_type": "markdown",
   "id": "90b87f65",
   "metadata": {},
   "source": [
    "- Đọc file excel chuyển thành dataframe, sử dụng thư viện pandas\n",
    "- Xóa các bản ghi null, bị trùng của cột \"id\"\n",
    "- Chuyển giá trị cột \"id\" trong dataframe thành 1 list"
   ]
  },
  {
   "cell_type": "code",
   "execution_count": 9,
   "id": "0c064424",
   "metadata": {},
   "outputs": [],
   "source": [
    "df = pd.read_excel(input_file)\n",
    "product_ids = df[\"id\"].dropna().drop_duplicates().to_list()\n",
    "# print(product_ids[:10])"
   ]
  },
  {
   "cell_type": "code",
   "execution_count": 11,
   "id": "dede8ec0",
   "metadata": {},
   "outputs": [],
   "source": [
    "# results = []\n",
    "\n",
    "# with ThreadPoolExecutor(max_workers=parallel_nbr) as executor:\n",
    "#     ft = {executor.submit(fetch_product_data, pid): pid for pid in product_ids[:10]}\n",
    "#     for f in as_completed(ft):\n",
    "#         results = f.result()\n",
    "#         print(results)\n"
   ]
  },
  {
   "cell_type": "markdown",
   "id": "322b8b28",
   "metadata": {},
   "source": [
    "Chạy test API với 10 sản phẩm đầu tiên. Gặp lỗi 403:\n",
    "\n",
    "{'product_id': 154155413, 'error': '403 Client Error: Forbidden for url: https://api.tiki.vn/product-detail/api/v1/products/154155413'}  \n",
    "{'product_id': 1391347, 'error': '403 Client Error: Forbidden for url: https://api.tiki.vn/product-detail/api/v1/products/1391347'}  \n",
    "{'product_id': 179970479, 'error': '403 Client Error: Forbidden for url: https://api.tiki.vn/product-detail/api/v1/products/179970479'}  \n",
    "{'product_id': 197334787, 'error': '403 Client Error: Forbidden for url: https://api.tiki.vn/product-detail/api/v1/products/197334787'}  \n",
    "{'product_id': 214009046, 'error': '403 Client Error: Forbidden for url: https://api.tiki.vn/product-detail/api/v1/products/214009046'}  \n",
    "{'product_id': 74897599, 'error': '403 Client Error: Forbidden for url: https://api.tiki.vn/product-detail/api/v1/products/74897599'}  \n",
    "{'product_id': 253117062, 'error': '403 Client Error: Forbidden for url: https://api.tiki.vn/product-detail/api/v1/products/253117062'}  \n",
    "{'product_id': 130978358, 'error': '403 Client Error: Forbidden for url: https://api.tiki.vn/product-detail/api/v1/products/130978358'}  \n",
    "{'product_id': 171618108, 'error': '403 Client Error: Forbidden for url: https://api.tiki.vn/product-detail/api/v1/products/171618108'}  \n",
    "{'product_id': 139457837, 'error': '403 Client Error: Forbidden for url: https://api.tiki.vn/product-detail/api/v1/products/139457837'} "
   ]
  },
  {
   "cell_type": "code",
   "execution_count": null,
   "id": "fdb7454a",
   "metadata": {},
   "outputs": [
    {
     "name": "stdout",
     "output_type": "stream",
     "text": [
      "Đã xử lý 10000/200000 sản phẩm\n",
      "Đã xử lý 20000/200000 sản phẩm\n",
      "Đã xử lý 30000/200000 sản phẩm\n",
      "Đã xử lý 40000/200000 sản phẩm\n",
      "Đã xử lý 50000/200000 sản phẩm\n",
      "Đã xử lý 60000/200000 sản phẩm\n",
      "Đã xử lý 70000/200000 sản phẩm\n",
      "Đã xử lý 80000/200000 sản phẩm\n",
      "Đã xử lý 90000/200000 sản phẩm\n",
      "Đã xử lý 100000/200000 sản phẩm\n",
      "Đã xử lý 110000/200000 sản phẩm\n",
      "Đã xử lý 120000/200000 sản phẩm\n",
      "Đã xử lý 130000/200000 sản phẩm\n",
      "Đã xử lý 140000/200000 sản phẩm\n",
      "Đã xử lý 150000/200000 sản phẩm\n",
      "Đã xử lý 160000/200000 sản phẩm\n",
      "Đã xử lý 170000/200000 sản phẩm\n",
      "Đã xử lý 180000/200000 sản phẩm\n",
      "Đã xử lý 190000/200000 sản phẩm\n",
      "Đã xử lý 200000/200000 sản phẩm\n"
     ]
    }
   ],
   "source": [
    "# Sử dụng requests.Session() để giữ cookie, headers giống Postman\n",
    "session = rq.Session()\n",
    "\n",
    "results = []\n",
    "# results_status = []\n",
    "file_count = 1\n",
    "\n",
    "#  Dùng ThreadPoolExecutor để chạy parallel nhiều luồng call API\n",
    "\n",
    "with ThreadPoolExecutor(max_workers=parallel_nbr) as executor:\n",
    "    ft = {executor.submit(fetch_product_data, session, pid): pid for pid in product_ids}\n",
    "    for f in as_completed(ft):\n",
    "        result = f.result()\n",
    "        results.append(result)\n",
    "\n",
    "        #  Log trạng thái xử lý\n",
    "        if len(results) % 10000 == 0:\n",
    "            print(f\"Đã xử lý {len(results)}/{len(product_ids)} sản phẩm\")\n",
    "\n",
    "# Thời gian call API xong 200k sản phẩm: 56m 23.9s"
   ]
  },
  {
   "cell_type": "code",
   "execution_count": null,
   "id": "032233aa",
   "metadata": {},
   "outputs": [
    {
     "name": "stdout",
     "output_type": "stream",
     "text": [
      "[{'id': 206303845, 'name': 'Đồ chơi lắp ghép nhiều chủ đề ngành nghề - bác sĩ, nấu ăn, chăm sóc thú cưng, trang điểm', 'url_key': 'do-choi-huong-nghiep-nhieu-nganh-nghe-bac-si-nau-an-cham-soc-thu-cung-trang-diem-p206303845', 'price': 213000, 'description': 'THÔNG TIN SẢN PHẨM\\nKích thước: 20 x 23 x 11 cm\\nKhối lượng: 400g\\nĐộ tuổi: 3+\\nChất liệu: Nhựa ABS & PP\\nPin: không pin\\nXuất xứ: Trung Quốc\\nHƯỚNG DẪN SỬ DỤNG\\nLắp các chi tiết thành bộ hoàn chỉnh.\\nSản phẩm sử dụng bằng tay – an toàn cho trẻ khi chơi.\\nƯU ĐIỂM SẢN PHẨM\\nNhiều kịch bản mô phỏng, trải nghiệm thú vị cho trẻ khi chơi.\\nKiểu dáng đẹp mắt và chất liệu an toàn cho bé.\\nTập cho bé khả năng thực hành, rèn trí tưởng tượng và khả năng thị giác.\\nBé có khả năng tự thể hiện bản thân khi chơi.\\nGiúp gia tăng tình cảm giữa cha mẹ và con khi chơi.\\nSản phẩm giúp trẻ phát triển:\\n- Khả năng quan sát, nhận biết màu sắc, vật thể.\\n- Phát triển khả năng vận động của trẻ.\\n- Phát triển khả năng giao tiếp với gia đình, bạn bè cùng chơi với trẻ.\\n“ Khám phá đồ chơi - Khơi niềm sáng tạo”\\nGiá sản phẩm trên Tiki đã bao gồm thuế theo luật hiện hành. Bên cạnh đó, tuỳ vào loại sản phẩm, hình thức và địa chỉ giao hàng mà có thể phát sinh thêm chi phí khác như phí vận chuyển, phụ phí hàng cồng kềnh, thuế nhập khẩu (đối với đơn hàng giao từ nước ngoài có giá trị trên 1 triệu đồng).....'}, {'id': 192692807, 'name': 'Đồ Chơi Lắp Ghép Xếp Hình Robot Siêu Anh Hùng Người Sắt MK44 Mech Anti Hụlk Buster No.LY76028-13 Với 820+ Mảnh Ghép', 'url_key': 'do-choi-lap-ghep-xep-hinh-robot-sieu-anh-hung-nguoi-sat-mk44-mech-anti-hulk-buster-no-ly76028-13-voi-820-manh-ghep-p192692807', 'price': 425000, 'description': 'Đồ Chơi Lắp Ghép Xếp Hình Robot Siêu Anh Hùng Người Sắt MK44 Mech Anti Hụlk Buster No.LY76028-13 Với 820+ Mảnh Ghép\\n- Xuất Xứ : Hàng nội địa Trung Quốc.\\n- Model :No.LY76028-13.\\n- Tên gọi :Robot Siêu Anh Hùng Người Sắt MK44 Mech Anti Hụlk Buster.\\n- Số mảnh ghép : 8208+ Mảnh Ghép.\\n- Kích Thước Sản Phẩm: 22 x 19cm.\\n- Kích Thước Hộp :33 x 27 x 9 cm.\\n- Chất liệu : Nhựa nguyên sinh ABS Cao Cấp (Thân thiện với Môi Trường, An Toàn đối với Người sử dụng).\\n- Tiêu chuẩn chất lượng : 3C, EN71, HR4040, ASTM.\\n- Các miếng ghép được thiết kế tinh xảo, màu sắc đẹp mắt và vô cùng an toàn với các bé!.\\n- Chất liệu nhựa cũng có độ cứng bền cao, khó bị nứt vỡ hay biến dạng dưới tác động của va đập.\\n- Thiết kế đẹp mắt, gọn gàng.\\n- Màu sắc tươi sáng, sinh động càng tạo nên cảm hứng cho trẻ nhỏ khi chơi. Sau khi chơi xong, mô hình có thể bỏ lại trong hộp và cất giữ gọn gàng.\\nLợi ích của đồ chơi Lắp Ghép Xếp Hình:\\n- Tăng cường kỹ năng vận động.\\n- Rèn luyện tính kiên nhẫn.\\n- Học cách giải quyết vấn đề.\\n- Làm quen với toán học, khoa học.\\n- Kỹ năng sắp xếp khoa học.\\n- Kích thích tư duy, sự sáng tạo\\n- Phát triển kỹ năng xã hội\\n- Khi Bạn Nhận Được Hàng, Nếu Bạn Ưng Ý Về Sản Phẩm Bạn Cho Shop Xin 1 Đánh Giá 5 Sao Nhé ! Còn Bạn Không Ưng Ý Hoặc Gặp Vấn Đề Chục Chặc Gì Về Sản Phẩm, Bạn Đừng Vội Đánh Giá Nhé Bạn Cứ Inbox, Bên Mình Có Đội Ngũ Nhân Viên Vô Cùng Chuyên Nghiệp Để Giải Quyết Vấn Đề Cho Bạn Ạ ! RẤT MONG ĐƯỢC SỰ ỦNG HỘ TỪ CÁC BẠN !\\nGiá sản phẩm trên Tiki đã bao gồm thuế theo luật hiện hành. Bên cạnh đó, tuỳ vào loại sản phẩm, hình thức và địa chỉ giao hàng mà có thể phát sinh thêm chi phí khác như phí vận chuyển, phụ phí hàng cồng kềnh, thuế nhập khẩu (đối với đơn hàng giao từ nước ngoài có giá trị trên 1 triệu đồng).....'}, {'id': 201509082, 'name': 'LEGO - Minecraft 21168', 'url_key': 'lego-minecraft-21168-p201509082', 'price': 1699000, 'description': 'Thỏa mãn niềm đam mê Minecraft của trẻ với LEGO Minecraft The Warped Forest (21168). Bộ đóng kịch thực hành này mang đến những cuộc phiêu lưu Minecraft thú vị, bùng nổ vào thế giới thực\\nBao gồm 4 nhân vật: Thợ săn với cung và áo giáp bảo vệ, một con hoglin với cái đầu có thể di chuyển được và 2 con lợn\\xa0 Cũng bao gồm các tính năng bùng và rơi tích hợp\\nNgười chơi giúp Huntress băng qua một cảnh quan có đá rơi, sinh vật thù địch và dòng sông dung nham. Họ đặt chất để làm đổ một cái cây, tạo ra một cây cầu dẫn đến nhiều cuộc phiêu lưu hơn\\nPhong cảnh LEGO ly kỳ này tái tạo một cách chân thực môi trường Rừng chiến tranh Minecraft tối tăm và nguy hiểm\\nDành cho lứa tuổi từ 8 trở lên. Một món quà lý tưởng cho những người chơi Minecraft muốn mở rộng niềm đam mê của họ với trò chơi trực tuyến vào thế giới thực\\nGiá sản phẩm trên Tiki đã bao gồm thuế theo luật hiện hành. Bên cạnh đó, tuỳ vào loại sản phẩm, hình thức và địa chỉ giao hàng mà có thể phát sinh thêm chi phí khác như phí vận chuyển, phụ phí hàng cồng kềnh, thuế nhập khẩu (đối với đơn hàng giao từ nước ngoài có giá trị trên 1 triệu đồng).....'}, {'id': 138083218, 'name': 'Đồ Chơi Xếp Hình MyndToys - My First Learning (Cho Bé Từ 2.5 Tuổi - Nhiều Chủ Đề)', 'url_key': 'do-choi-xep-hinh-myndtoys-my-first-learning-cho-be-tu-2-5-tuoi-nhieu-chu-de-p138083218', 'price': 268000, 'description': 'Đồ Chơi Xếp Hình MyndToys\\n-\\nMy First Learning\\n(\\nCho Bé Từ 2.5 Tuổi\\n-\\nNhiều Chủ Đề\\n)\\nBỘ SẢN PHẨM BAO GỒM:\\nHộp chữ nhật: 15 x 20 x 5 (cm) có nắp đậy\\nBộ thẻ: 6 bảng ghép puzzle cỡ 14 x 20 cm tương ứng với 24 miếng ghép puzzle về các chủ đề khác nhau.\\nKích thước thẻ: 7×10 (cm)\\nSticker thưởng\\nHướng dẫn cho phụ huynh\\nCó 2 bộ sản phẩm thuộc dòng My First Learning cho các bé lựa chọn:\\nBộ sản phẩm My First Learning – Me & My Family về chủ đề Bản thân và Gia đình\\nBộ sản phẩm My First Learning – World of Animals về chủ đề Thế giới động vật\\nTHÔNG TIN VỀ SẢN PHẨM:\\nThương hiệu: MyndToys Singapore\\nSản xuất: Tại Việt Nam\\nĐộ tuổi: 2.5+\\nTiêu chuẩn an toàn: CPSIA, ASTM và CE.\\nDòng sản phẩm My First Learning gồm nhiều bộ sản phẩm với các chủ đề khác nhau để phù hợp với các sở thích của bé:\\nMy First Learning – Me & My Family giúp trẻ tìm hiểu về bản thân và gia đình với 6 chủ đề đa dạng tương ứng với 6 bảng ghép puzzle.\\nMy First Learning – Me & My Family giúp trẻ tìm hiểu về thế giới động vật với đa dạng 6 chủ đề tương ứng với 6 bảng ghép puzzle\\nTrò chơi kết hợp giữa tương tác hỏi đáp và ghép tranh puzzle, phát triển kỹ năng phối hợp tay mắt, kỹ năng nhận biết và tư duy logic.\\nTăng khả năng phản xạ và sự hứng thú khi tương tác cùng cha mẹ hoặc trong đội nhóm.\\nMyndToys là thương hiệu đồ chơi giáo dục dành cho trẻ từ 0 đến 8 tuổi, được kết tinh từ tình yêu con trẻ và kinh nghiệm nhiều năm trong lĩnh vực giáo dục của nhóm các chuyên gia giáo dục đến từ Singapore.\\nThêm vào đó những sản phẩm của MyndToys được sản xuất tại Việt Nam với qui trình sản xuất và kiểm nghiệm nghiêm ngặt, tự tin sẽ mang đến các sản phẩm đồ chơi giáo dục đạt tiêu chuẩn an toàn quốc tế với giá thành phù hợp, đồng hành với các bậc phụ huynh góp phần nâng cao trí tuệ và thẩm mĩ của trẻ em Việt Nam.\\nGiá sản phẩm trên Tiki đã bao gồm thuế theo luật hiện hành. Bên cạnh đó, tuỳ vào loại sản phẩm, hình thức và địa chỉ giao hàng mà có thể phát sinh thêm chi phí khác như phí vận chuyển, phụ phí hàng cồng kềnh, thuế nhập khẩu (đối với đơn hàng giao từ nước ngoài có giá trị trên 1 triệu đồng).....'}, {'id': 164361837, 'name': 'Xếp Hình Nam Châm - Đồ Chơi Trí Tuệ Stem Hàng Bền Đẹp Magnetic CMTOY01', 'url_key': 'xep-hinh-nam-cham-do-choi-tri-tue-stem-hang-ben-dep-magnetic-cmtoy01-p164361837', 'price': 269000, 'description': 'Xếp Hình Nam Châm - Đồ Chơi Trí Tuệ Stem Hàng Đẹp Magnetic CMTOY01\\nThông tin sản phẩm:\\nPhân loại:\\n*\\nXếp hình nam châm Hộp\\n350\\nchi tiết\\n: 186 thanh thẳng, 8 thanh cong, 86 bi, 70 mảnh nhựa màu sắc theo hộp\\n*\\nXếp hình nam châm Hộp\\n138\\nchi tiết\\n: 70 thanh thẳng, 4 thanh cong, 34 viên bi, 30 mảnh nhựa màu sắc theo hộp\\nQuý khách chú ý khi lựa chọn phân loại sản phẩm, tránh đặt nhầm.\\nSản phẩm Xếp Hình Nam Châm là sản phẩm cao cấp, dành cho những bạn 6+ với những bạn nhỏ hơn thì cần có người lớn chơi cùng.\\nXếp hình nam châm\\nđược làm từ chất liệu nam châm cao cấp bền bỉ, an toàn cho bé\\nXếp hình nam châm\\nbộ đồ chơi giúp rèn luyện tư duy hình học không gian và sáng tạo vô số công trình giúp bé nâng cao khả năng sáng tạo và tư duy về hình khối\\nGiá sản phẩm trên Tiki đã bao gồm thuế theo luật hiện hành. Bên cạnh đó, tuỳ vào loại sản phẩm, hình thức và địa chỉ giao hàng mà có thể phát sinh thêm chi phí khác như phí vận chuyển, phụ phí hàng cồng kềnh, thuế nhập khẩu (đối với đơn hàng giao từ nước ngoài có giá trị trên 1 triệu đồng).....'}, {'id': 153413535, 'name': 'Đồ chơi lắp ráp, xếp hình xe đẩy bán kem, quà tặng cho bé(Loại to)', 'url_key': 'do-choi-lap-rap-xep-hinh-xe-day-ban-kem-qua-tang-cho-be-loai-to-p153413535', 'price': 218000, 'description': 'Bộ đồ chơi lắp ráp, xếp hình xe đẩy kem cho bé\\nChât liệu nhựa đảm bảo an toàn cho bé\\nVơi bộ khung và đồ phụ kiện gôm nhiêu que kem kẹo rât đáng yêu\\nĐủ bộ cho bé thích hợp chơi theo nhóm hay tự chơi ở nhà\\nGiá sản phẩm trên Tiki đã bao gồm thuế theo luật hiện hành. Bên cạnh đó, tuỳ vào loại sản phẩm, hình thức và địa chỉ giao hàng mà có thể phát sinh thêm chi phí khác như phí vận chuyển, phụ phí hàng cồng kềnh, thuế nhập khẩu (đối với đơn hàng giao từ nước ngoài có giá trị trên 1 triệu đồng).....'}, {'id': 179805786, 'name': 'Bộ Đồ Chơi Lắp Ráp Hình Người Và Khủng Long Ausini AUS-25912-2 (80 Mảnh Ghép)', 'url_key': 'bo-do-choi-lap-rap-hinh-nguoi-va-khung-long-ausini-aus-25912-2-80-manh-ghep-p179805786', 'price': 99000, 'description': 'Bộ Đồ Chơi Lắp Ráp Hình Người Và Khủng Long Ausini AUS-25912-2 (80 Mảnh Ghép)\\nGiá sản phẩm trên Tiki đã bao gồm thuế theo luật hiện hành. Bên cạnh đó, tuỳ vào loại sản phẩm, hình thức và địa chỉ giao hàng mà có thể phát sinh thêm chi phí khác như phí vận chuyển, phụ phí hàng cồng kềnh, thuế nhập khẩu (đối với đơn hàng giao từ nước ngoài có giá trị trên 1 triệu đồng).....'}, {'id': 158709609, 'name': 'Lắp Ráp Nhà VILA 34051', 'url_key': 'lap-rap-nha-vila-34051-p158709609', 'price': 410000, 'description': 'Lắp Ráp Nhà VILA 34051\\nChất Liệu: Nhựa ABS\\nSố Miếng: 909 PCS\\nKích Thước sản phẩm: dài 38cm cao 22 rộng 19cm\\nĐộ Tuổi: 6+\\nGiá sản phẩm trên Tiki đã bao gồm thuế theo luật hiện hành. Bên cạnh đó, tuỳ vào loại sản phẩm, hình thức và địa chỉ giao hàng mà có thể phát sinh thêm chi phí khác như phí vận chuyển, phụ phí hàng cồng kềnh, thuế nhập khẩu (đối với đơn hàng giao từ nước ngoài có giá trị trên 1 triệu đồng).....'}, {'id': 214008360, 'name': 'Bộ mô hình Figure rise Standard KAMEN RIDER GHOST ORE DAMASHII', 'url_key': 'bo-mo-hinh-figure-rise-standard-kamen-rider-ghost-ore-damashii-p214008360', 'price': 749000, 'description': 'Sản phẩm Gunpla chính hãng của Bandai, sản xuất tại Nhật Bản.\\nSản phẩm giúp phát triển trí não và rèn luyện tính kiên nhẫn cho người chơi.\\nNgười chơi sẽ thỏa sức sáng tạo với hàng nghìn mẫu và chi tiết để có thể tạo ra sản phẩm của bản thân.\\nSản phẩm gắn với nhau bằng khớp nối, không dùng keo dán\\nĐế Quốc gundam Store VN\\nGiá sản phẩm trên Tiki đã bao gồm thuế theo luật hiện hành. Bên cạnh đó, tuỳ vào loại sản phẩm, hình thức và địa chỉ giao hàng mà có thể phát sinh thêm chi phí khác như phí vận chuyển, phụ phí hàng cồng kềnh, thuế nhập khẩu (đối với đơn hàng giao từ nước ngoài có giá trị trên 1 triệu đồng).....'}, {'id': 143061027, 'name': 'Đồ chơi lắp ráp nam châm thông minh (77 - 107 -130 chi tiết ) – Đồ chơi phát triển trí thông minh, sáng tạo, logic cho bé', 'url_key': 'do-choi-lap-rap-nam-cham-thong-minh-77-107-130-chi-tiet-do-choi-phat-trien-tri-thong-minh-sang-tao-logic-cho-be-p143061027', 'price': 1200000, 'description': 'Đồ chơi lắp ráp nam châm thông minh (77 - 107 -130 chi tiết ) – Đồ chơi phát triển trí thông minh, sáng tạo, logic cho bé\\nBộ Đồ Chơi Gồm 3 Phiên Bản:\\n+ 77 CHI TIẾT ( Tặng Kèm Sách Hướng dẫn Lắp ráp )\\n+ 107 CHI TIẾT ( Tặng Kèm Sách Hướng dẫn Lắp ráp )\\n+ 130 CHI TIẾT ( Tặng Kèm Sách Hướng dẫn Lắp ráp )\\n- Kèm\\xa0 sách hướng dẫn chi tiết cách lắp ghép các hình khối\\nLợi Ich Khi Sử Dụng Bộ Hình Khối Nam Châm:\\n- Thông qua kết nối nam châm , trẻ có thể dễ dàng tạo một hình cầu, hình chóp, hình khố Và sau đó biến thành một mô hình đa dạng.\\n- Khung xây dựng cơ bản có thể giúp trẻ phát triển sự sáng tạo và trí tưởng tượng rất tốt.\\n- Trẻ có thể chia sẻ niềm vui với với gia đình và bạn bè, cảm nhận được thành tích trẻ đã làm được.\\n- Bộ này còn giúp trẻ hình thành và phát triển sớm các khái niệm về màu sắc, hình dạng trong toán học (Các hình 2D có sẵn) và hình học 3D (các hình dạng trẻ xây dựng). Khái niệm từ trường đa năng sẽ rất thú vị và cuốn hút trẻ.\\n- Được làm từ nhựa và siêu nam châm, hình dạng chính là hình tam giác và hình vuông.\\n- Các nam châm được hoàn toàn gói gọn trong nhựa\\n- Nam châm có thể được luân chuyển và dễ dàng kết nối, không có sự khác biệt giữa cực Bắc và cực Nam , giúp trẻ dễ dàng lắp ghép và kết hợp các miếng ghép với nhau tạo thành các hình khối trẻ muốn.\\n- Vật liệu không độc hại, đạt tiêu chuẩn an toàn cao nhất của Quốc tế\\n- Thích hợp từ 3 tuổi trở lên, tất cả các bộ phận đã được đánh bóng mịn, không gây hại cho việc lắp ráp.\\nBộ này mua về để dùng hay quà tặng đều thích hợp. Các chi tiết và sách hướng dẫn được đựng trong hộp nhựa có tay cầm rất xịn sò. Bố mẹ cứ nhìn vài hình nhà em chụp trực tiếp để thấy độ to đẹp, hữu ích của nó\\nĐồ chơi lắp ráp nam châm thông minh (77 - 107 -130 chi tiết ) – Đồ chơi phát triển trí thông minh, sáng tạo, logic cho bé\\nThông Tin Chi Tiết Về Sản Phẩm:\\n+ Tặng kèm sách hướng dẫn lắp ghép chi tiết.\\n+ Chất liệu : Nhựa ABS , Nam Châm\\n+ Xuất Xứ : Trung Quốc\\n+ Trọng Lượng : 1000g\\n+ Kích Thước : 25 x 18 x 15 cm\\nĐồ chơi lắp ráp nam châm thông minh (77 - 107 -130 chi tiết ) – Đồ chơi phát triển trí thông minh, sáng tạo, logic cho bé\\nXin Cam Kết\\n- đảm bảo an toàn cho bé\\n- \\xa0sản phẩm mới chưa qua sử dụng, đảm bảo yên tâm về chất lượng.\\n- Hàng luôn có sẵn, giao ngay khi nhận được đơn\\n- Sản phẩm được kiểm tra kỹ càng, đóng gói chắc chắn, cẩn thận trước khi giao cho Quý khách.\\n- Chính sách đổi trả: Hỗ trợ đổi trả theo quy định của Tiki\\n- Do màn hình và điều kiện ánh sáng khác nhau, màu sắc thực tế của sản phẩm có thể chênh lệch khoảng 3-5%\\nSản phẩm 100% do shop thực hiện, giống với mô tả\\nGiá sản phẩm trên Tiki đã bao gồm thuế theo luật hiện hành. Bên cạnh đó, tuỳ vào loại sản phẩm, hình thức và địa chỉ giao hàng mà có thể phát sinh thêm chi phí khác như phí vận chuyển, phụ phí hàng cồng kềnh, thuế nhập khẩu (đối với đơn hàng giao từ nước ngoài có giá trị trên 1 triệu đồng).....'}]\n"
     ]
    }
   ],
   "source": [
    "#  Clean lại kết quả, chỉ lấy các kết quả chứa nội dung\n",
    "results_avai = []\n",
    "for r in results:    \n",
    "    if r.get(\"status\") == \"success\" and \"data\" in r:\n",
    "        results_avai.append(r[\"data\"])\n",
    "    else:\n",
    "        # lưu vào file log\n",
    "        with open(log_error, \"a\", encoding=\"utf-8\") as f:\n",
    "            product_id = r.get(\"id\", \"unknown_id\")\n",
    "            f.write(f\"{product_id}\\n\")\n",
    "print(results_avai[:10])"
   ]
  },
  {
   "cell_type": "code",
   "execution_count": null,
   "id": "ffdf0651",
   "metadata": {},
   "outputs": [
    {
     "name": "stdout",
     "output_type": "stream",
     "text": [
      "Hoàn thành! Tạo 199 file JSON\n"
     ]
    }
   ],
   "source": [
    "#  Nhóm kết quả, trả về các file json\n",
    "total_files = math.ceil(len(results_avai) / file_sz)\n",
    "for i in range(total_files):\n",
    "    start_idx = i * file_sz\n",
    "    end_idx = start_idx + file_sz\n",
    "    batch_data = results_avai[start_idx:end_idx] # Cắt kết quả call API thành các list chưa data của 100 sản phẩm\n",
    "    file_path = Path(output_dir) / f\"products_batch_{i+1}.json\"\n",
    "    with open(file_path, \"w\", encoding=\"utf-8\") as f:\n",
    "        json.dump(batch_data, f, ensure_ascii=False, indent=2)\n",
    "print(f\"Hoàn thành! Tạo {total_files} file JSON\")"
   ]
  },
  {
   "cell_type": "markdown",
   "id": "8df64b97",
   "metadata": {},
   "source": [
    "Sau khi kiểm tra file Log_error, nhận thấy có một số id trả về unknown -> clean lại và lưu lại lỗi với các id lỗi."
   ]
  },
  {
   "cell_type": "code",
   "execution_count": 25,
   "id": "00dc182a",
   "metadata": {},
   "outputs": [
    {
     "name": "stdout",
     "output_type": "stream",
     "text": [
      "Đã xử lý xong. 24029 ID hợp lệ lưu vào log_error_clean.txt\n"
     ]
    }
   ],
   "source": [
    "clean_log_path = Path(\"log_error_clean.txt\")\n",
    "\n",
    "# Đọc file log gốc\n",
    "with open(log_error, \"r\", encoding=\"utf-8\") as f:\n",
    "    lines = f.readlines()\n",
    "\n",
    "# Loại bỏ trống, unknown_id, None, và duplicates\n",
    "clean_ids = sorted({line.strip() for line in lines if line.strip() and line.strip().lower() != \"unknown_id\"})\n",
    "\n",
    "# Ghi lại vào file mới\n",
    "with open(clean_log_path, \"w\", encoding=\"utf-8\") as f:\n",
    "    for pid in clean_ids:\n",
    "        f.write(f\"{pid}\\n\")\n",
    "\n",
    "print(f\"Đã xử lý xong. {len(clean_ids)} ID hợp lệ lưu vào {clean_log_path}\")"
   ]
  },
  {
   "cell_type": "code",
   "execution_count": 22,
   "id": "c65e4d68",
   "metadata": {},
   "outputs": [
    {
     "name": "stdout",
     "output_type": "stream",
     "text": [
      "2025-08-15 05:30:28.586205\n"
     ]
    }
   ],
   "source": [
    "end_time = datetime.datetime.now()\n",
    "print(end_time)"
   ]
  }
 ],
 "metadata": {
  "kernelspec": {
   "display_name": "Python 3",
   "language": "python",
   "name": "python3"
  },
  "language_info": {
   "codemirror_mode": {
    "name": "ipython",
    "version": 3
   },
   "file_extension": ".py",
   "mimetype": "text/x-python",
   "name": "python",
   "nbconvert_exporter": "python",
   "pygments_lexer": "ipython3",
   "version": "3.13.2"
  }
 },
 "nbformat": 4,
 "nbformat_minor": 5
}
